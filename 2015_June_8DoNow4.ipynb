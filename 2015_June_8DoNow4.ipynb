{
 "cells": [
  {
   "cell_type": "markdown",
   "metadata": {},
   "source": [
    "**1) Print the 3rd element of a list called dogs.**"
   ]
  },
  {
   "cell_type": "markdown",
   "metadata": {},
   "source": [
    "The third element in a list called dogs is print dog[2] because the first element is 0, so every subsequent element would have the value of n-1"
   ]
  },
  {
   "cell_type": "markdown",
   "metadata": {},
   "source": [
    "**2) What is the output of the following code?**"
   ]
  },
  {
   "cell_type": "code",
   "execution_count": 1,
   "metadata": {
    "collapsed": false,
    "scrolled": true
   },
   "outputs": [
    {
     "name": "stdout",
     "output_type": "stream",
     "text": [
      "1 green\n",
      "2 green\n",
      "3 green\n",
      "4 green\n",
      "1 blue\n",
      "2 blue\n",
      "3 blue\n",
      "4 blue\n"
     ]
    }
   ],
   "source": [
    "numbers = [ 1, 2, 3, 4]\n",
    "colors = [ \"green\", \"blue\" ]\n",
    "for color in colors:\n",
    "\tfor number in numbers:\n",
    "\t\tprint number, color\n"
   ]
  },
  {
   "cell_type": "markdown",
   "metadata": {},
   "source": [
    "The code above is an example of a for loop. For loops are not conditional like if statements are. For loops run through every line. Since this code has a nested for loop, the output would first print the number and then the first element in the color list. After looping through all the elements in the nested for loop, then the next step is to loop through the initial for loop--in this case, color."
   ]
  },
  {
   "cell_type": "markdown",
   "metadata": {},
   "source": [
    "**3) What command would you use to get the first 100 lines of data.csv, and save it into a new file named sample.csv?**"
   ]
  },
  {
   "cell_type": "markdown",
   "metadata": {},
   "source": [
    "|Make|Year|Color|\n",
    "|-----|-----|-----|\n",
    "|Chevrolet|2011|black|\n",
    "|Honda|2010|red|\n",
    "|Honda|2013|black|\n",
    "|Toyota|2001|gold|"
   ]
  },
  {
   "cell_type": "markdown",
   "metadata": {},
   "source": [
    "head -n100 data.csv > sample.csv\n",
    "\n",
    "\"head\" would give the first lines of a file and \"tail\" would give the last lines\n",
    "\n",
    "\"-n\" followed by the number of desired lines (in this case 100) gives just those lines\n",
    "\n",
    "\">\" signifies the new file name\n",
    "\n",
    "This is a language known as Unix"
   ]
  },
  {
   "cell_type": "markdown",
   "metadata": {},
   "source": [
    "**4) What is missing from the lines below? (It isn't 100% necessary, but we use it for convenience)**\n",
    "\n",
    "**file = open(\"lists.csv\")**\n",
    "\n",
    "**cars = csv.DictReader(file)**\n"
   ]
  },
  {
   "cell_type": "markdown",
   "metadata": {},
   "source": [
    "Write \"import csv\"\n",
    "\n",
    "Before opening a csv, you must make sure it has been imported first. Then you must make sure to actually open the file using the open command, followed by the .DictReader command to scan all the components in the dataset. You can also combine the lines above using the command \"input_file = csv.DictReader(open(\"list.csv\")).\""
   ]
  },
  {
   "cell_type": "markdown",
   "metadata": {},
   "source": [
    "**5) Write a for loop to add up all of the years. Save it to a variable called total.**"
   ]
  },
  {
   "cell_type": "markdown",
   "metadata": {
    "collapsed": false
   },
   "source": [
    "years = []\n",
    "\n",
    "for car in cars:\n",
    "\n",
    "    if car['year'] not in years:\n",
    "    \n",
    "        years.append(car['year'])\n",
    "        \n",
    "total = sum[years]\n",
    "\n",
    "\n",
    "To answer this question, first create an empty list. By running the list comprehension command \"not in,\" any time years appear in the csv file, the information is added to the list of years. To add all the years you have just compiled in the list, sum the list--in this example, the sum is saved to a variable called total."
   ]
  },
  {
   "cell_type": "markdown",
   "metadata": {},
   "source": [
    "**6) I'd like a new list called favorites that includes all cars that are black or produced after 2010. Write a for loop to create this list.**"
   ]
  },
  {
   "cell_type": "markdown",
   "metadata": {
    "collapsed": false
   },
   "source": [
    "favorites = []\n",
    "\n",
    "for car in cars:\n",
    "\n",
    "    if car['color'] == 'black' or car ['year'] > 2009:\n",
    "    \n",
    "        favorites.append(car['color'])\n",
    "      \n",
    "This question is another example of creating an empty list. Instead of using the list comprehension command \"not in,\" the command scans the csv file more specifically for a certain color and year using the symbols == and >."
   ]
  }
 ],
 "metadata": {
  "kernelspec": {
   "display_name": "Python 2",
   "language": "python",
   "name": "python2"
  },
  "language_info": {
   "codemirror_mode": {
    "name": "ipython",
    "version": 2
   },
   "file_extension": ".py",
   "mimetype": "text/x-python",
   "name": "python",
   "nbconvert_exporter": "python",
   "pygments_lexer": "ipython2",
   "version": "2.7.9"
  }
 },
 "nbformat": 4,
 "nbformat_minor": 0
}
