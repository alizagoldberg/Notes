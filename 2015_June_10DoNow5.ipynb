{
 "cells": [
  {
   "cell_type": "markdown",
   "metadata": {},
   "source": [
    "**1) What's the output of the following lines?**"
   ]
  },
  {
   "cell_type": "code",
   "execution_count": 2,
   "metadata": {
    "collapsed": false
   },
   "outputs": [
    {
     "name": "stdout",
     "output_type": "stream",
     "text": [
      "hello name\n",
      "hello Max\n"
     ]
    }
   ],
   "source": [
    "name = \"Max\"\n",
    "print \"hello\", \"name\"\n",
    "print \"hello\", name"
   ]
  },
  {
   "cell_type": "markdown",
   "metadata": {},
   "source": [
    "This question demonstrates the difference between strings and variables. Strings are words in quotations while variables are words that come before an equal sign. In the first print statement, the two strings yield an output of those same words. In the second print statement, the two strings yield an output of the word contained in the string followed by what the variable name has been defined as: Max."
   ]
  },
  {
   "cell_type": "markdown",
   "metadata": {},
   "source": [
    "**2)What is the output of the following code? Which lines give you errors?**\n",
    "\n",
    "borough_name = 'Manhattan'\n",
    "\n",
    "z = [ 'Manhattan', 'Queens' ]\n",
    "\n",
    "x = { 'borough_name': 'Manhattan', 'population': 500 }\n",
    "\n",
    "y = {\n",
    "\n",
    "'Manhattan': 500,\n",
    "\n",
    "'Queens': 200\n",
    "\n",
    "}\n"
   ]
  },
  {
   "cell_type": "markdown",
   "metadata": {
    "collapsed": true
   },
   "source": [
    "print x['borough_name']: Manhattan\n",
    "\n",
    "print x[borough_name]: ['Manhattan']\n",
    "\n",
    "**print x[0]: error**\n",
    "\n",
    "**print y['borough_name']: error**\n",
    "\n",
    "print y[borough_name]: 500\n",
    "\n",
    "**print y[0]: error**\n",
    "\n",
    "print z['borough_name']: error (list, not dict - must be int not str)\n",
    "\n",
    "print z[borough_name]: Manhattan\n",
    "\n",
    "print z[0]: Manhattan\n",
    "\n",
    "\n",
    "The third line gives an error because x is a dictionary, as seen by their curly brackets. Unlike lists, dictionaries are not counted from 0. The fourth line gives an error because borough_name is not a key in the dictionary y--only 'Manhattan' and 'Queens' are. The sixth line gives an error for the same reason as the third line: y is a dictionary, not a list. The seventh line gives an error because borough_name is not an element in the list z. Had borough_name been a variable instead of a string, as seen in the following line, then the output would have been the yield for the variable borough_name, Manhattan."
   ]
  },
  {
   "cell_type": "markdown",
   "metadata": {},
   "source": [
    "**3) We have a list called numbers, but we had an off-by-one error: add one to every element of the list, then sum the results. Do this in one line.**\n",
    "\n",
    "numbers = sum([number + 1 for number in numbers])\n",
    "\n",
    "This question is an example of writing a for loop into a list. The equation runs backwards from how it reads: \"for every number in the list called numbers, add one and then sum those changed numbers.\""
   ]
  },
  {
   "cell_type": "markdown",
   "metadata": {},
   "source": [
    "**4a) Given the following, write code to calculate how many murders we have in total.**\n",
    "\n",
    "*murders = { 'Albany': 23, 'Kings County': 10, 'Rochester': 7, 'Yonkers: 9 } *\n",
    "\n",
    "for county in murders.keys():\n",
    "\n",
    "       print sum(murders[county])\n",
    "\n",
    "This question provides a dictionary and asks for a summation of the values within the dictionary. The command .keys() compiles all the keys in the dictionary. The print statement reads just as it is stated: sum the number of murders that have occurred in each county listed in the dictionary."
   ]
  },
  {
   "cell_type": "markdown",
   "metadata": {},
   "source": [
    "**4b) Write code to calculate the percentage of the murders happened in Kings County.**\n",
    "\n",
    "float(murders['Kings County']) / total * 100\n",
    "\n",
    "To calculate percentages, take the one expression of the dictionary, divide that by the total and then multiply by 100. For accurate calculations, add a float() command before the formula for decimal points. Decimals and integers are different types in Python and the computer will automatically round unless you state otherwise. You only need to write float() once, but writing \"float(murders['Kings County']) / float(total * 100)\" yields the same result."
   ]
  }
 ],
 "metadata": {
  "kernelspec": {
   "display_name": "Python 2",
   "language": "python",
   "name": "python2"
  },
  "language_info": {
   "codemirror_mode": {
    "name": "ipython",
    "version": 2
   },
   "file_extension": ".py",
   "mimetype": "text/x-python",
   "name": "python",
   "nbconvert_exporter": "python",
   "pygments_lexer": "ipython2",
   "version": "2.7.9"
  }
 },
 "nbformat": 4,
 "nbformat_minor": 0
}
