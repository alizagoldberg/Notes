{
 "cells": [
  {
   "cell_type": "markdown",
   "metadata": {},
   "source": [
    "**1) Given the following code, what is the output?**"
   ]
  },
  {
   "cell_type": "code",
   "execution_count": 2,
   "metadata": {
    "collapsed": false
   },
   "outputs": [
    {
     "name": "stdout",
     "output_type": "stream",
     "text": [
      "25\n",
      "5\n",
      "catdog\n",
      "cat dog\n"
     ]
    }
   ],
   "source": [
    "i = 5\n",
    "print 5 * 5\n",
    "print i\n",
    "print \"cat\" + \"dog\"\n",
    "print \"cat\", \"dog\""
   ]
  },
  {
   "cell_type": "markdown",
   "metadata": {},
   "source": [
    "The above question shows what happens when a variable is defined as an integer and also different ways strings are represented"
   ]
  },
  {
   "cell_type": "markdown",
   "metadata": {},
   "source": [
    "**2a) The code below doesn't work. Why not?**\n",
    "\n",
    "**print 5 + \"5\"**"
   ]
  },
  {
   "cell_type": "markdown",
   "metadata": {},
   "source": [
    "Quotation marks indicate a string and you can't add integers and strings"
   ]
  },
  {
   "cell_type": "markdown",
   "metadata": {},
   "source": [
    "**2b) There are several ways to make it work! Give two possible changes and what the output would be in each case.**"
   ]
  },
  {
   "cell_type": "markdown",
   "metadata": {},
   "source": [
    "Print int(5) + int(5)"
   ]
  },
  {
   "cell_type": "markdown",
   "metadata": {},
   "source": [
    "OR Print \"5\", \"5\""
   ]
  },
  {
   "cell_type": "markdown",
   "metadata": {},
   "source": [
    "In the first example, both are integers and in the second example, both are strings"
   ]
  },
  {
   "cell_type": "markdown",
   "metadata": {},
   "source": [
    "**3) What is wrong with the following if statement?**\n",
    "\n",
    "**if n = 2:**\n",
    "  **print \"Two\"**\n"
   ]
  },
  {
   "cell_type": "markdown",
   "metadata": {},
   "source": [
    "n = 2 redefines n as 2, instead of n equals 2\n",
    "\n",
    "You should change the if statement to\n",
    "if n == 2 like the code below:"
   ]
  },
  {
   "cell_type": "code",
   "execution_count": 20,
   "metadata": {
    "collapsed": false
   },
   "outputs": [],
   "source": [
    "if n == 2:\n",
    "    print \"Two\""
   ]
  },
  {
   "cell_type": "markdown",
   "metadata": {},
   "source": [
    "**4) Given the following code, what would the output be for n = 0, 10, -1, 3, and -5?**"
   ]
  },
  {
   "cell_type": "markdown",
   "metadata": {},
   "source": [
    "````python\n",
    "print n\n",
    "if n > 0:\n",
    "  print \"A\"\n",
    "  if n >= 3:\n",
    "    print \"B\"\n",
    "    print \"C\"\n",
    "  elif n > 2:\n",
    "    print \"D\"\n",
    "  else:\n",
    "    print \"E\"\n",
    "elif 1 > n > -2:\n",
    "  print \"F\"\n",
    "else:\n",
    "  print \"G\"\n",
    "if n < 5:\n",
    "  print \"H\"\n",
    "````\n",
    "\n",
    "F\n",
    "\n",
    "H\n",
    "\n",
    "A\n",
    "\n",
    "B\n",
    "\n",
    "C\n",
    "\n",
    "F\n",
    "\n",
    "H\n",
    "\n",
    "A\n",
    "\n",
    "B\n",
    "\n",
    "C\n",
    "\n",
    "H\n",
    "\n",
    "G\n",
    "\n",
    "H"
   ]
  },
  {
   "cell_type": "markdown",
   "metadata": {
    "collapsed": true
   },
   "source": [
    "In this question, there are five different raw inputs (the list of numbers). So the if statements will loop through five times for each of the numbers. For 0, the output is \"F H\" because 0 is between 1 and -2 and also less than 5. When each number is \"caught\" in an if statement, the letters are generated before moving down the list. Since 10 is greater than 0 and greater than 3, the output is \"A B C\".\n",
    "\n",
    "Elif is shorthand for \"otherwise\" and else is shorthand for \"if nothing else works, do this instead\""
   ]
  },
  {
   "cell_type": "code",
   "execution_count": null,
   "metadata": {
    "collapsed": true
   },
   "outputs": [],
   "source": []
  }
 ],
 "metadata": {
  "kernelspec": {
   "display_name": "Python 2",
   "language": "python",
   "name": "python2"
  },
  "language_info": {
   "codemirror_mode": {
    "name": "ipython",
    "version": 2
   },
   "file_extension": ".py",
   "mimetype": "text/x-python",
   "name": "python",
   "nbconvert_exporter": "python",
   "pygments_lexer": "ipython2",
   "version": "2.7.9"
  }
 },
 "nbformat": 4,
 "nbformat_minor": 0
}
