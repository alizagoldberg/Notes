{
 "cells": [
  {
   "cell_type": "markdown",
   "metadata": {},
   "source": [
    "**1) What two errors can you spot below?**\n",
    "\n",
    "n = 2;\n",
    "\n",
    "if n < 2:\n",
    "\n",
    "      print \"Small\"\n",
    "  \n",
    "elif n = 2:\n",
    "\n",
    "      print \"Medium\"\n",
    "  \n",
    "else print \"Large\"\n"
   ]
  },
  {
   "cell_type": "markdown",
   "metadata": {
    "collapsed": true
   },
   "source": [
    "This question is about if statements. In the first line, there should be a let before the statement and there should be no semi-colon. In the fourth line, elif = 2 should be elif == 2. The last line should be broken into \"else:\" and \"print \"Large\"\". The different print commands demonstrates the conditionality of the if statement: only one of the print statements will become the output and the value of n determines which print statement that is."
   ]
  },
  {
   "cell_type": "markdown",
   "metadata": {
    "collapsed": true
   },
   "source": [
    "**2) Given the following code, '11238' is a _____ and 23 is a _________.**"
   ]
  },
  {
   "cell_type": "markdown",
   "metadata": {
    "collapsed": false
   },
   "source": [
    "{ '11238': 23, '10011': 47 }"
   ]
  },
  {
   "cell_type": "markdown",
   "metadata": {},
   "source": [
    "11238 is a key and 23 is a value. Keys and values are separated by colons. 11238 acts as a word in a dictionary and 23 acts as the corresponding definition."
   ]
  },
  {
   "cell_type": "markdown",
   "metadata": {
    "collapsed": true
   },
   "source": [
    "**3) How would you add a 'low' of 54 to the following dictionary?**\n",
    "\n",
    "weather = {'high':66, 'appearance': 'cloudy'}"
   ]
  },
  {
   "cell_type": "markdown",
   "metadata": {},
   "source": [
    "Add the following line: weather.append = ['low': 54]\n",
    "\n",
    "The code \".append\" attaches a new entry into the dictionary. The dictionary then becomes weather = {'high':66, 'appearance':'cloudy', 'low':54}"
   ]
  },
  {
   "cell_type": "markdown",
   "metadata": {},
   "source": [
    "**4) How can we easily get the total of the list below? How about a count of how many elements are in the list?**\n",
    "\n",
    "numbers = [1, 2, 3, 4, 5, 6, 7]"
   ]
  },
  {
   "cell_type": "markdown",
   "metadata": {},
   "source": [
    "Use sum(numbers) for a total of the list and len(numbers) for a count of how many elements are in the list"
   ]
  },
  {
   "cell_type": "markdown",
   "metadata": {},
   "source": [
    "**5) Print the 3rd element of a list named dogs**"
   ]
  },
  {
   "cell_type": "markdown",
   "metadata": {
    "collapsed": false
   },
   "source": [
    "print dogs[2]\n",
    "\n",
    "The first element in a list is 0, so each subsequent element is n-1. In this example, 3-1=2"
   ]
  },
  {
   "cell_type": "markdown",
   "metadata": {},
   "source": [
    "**5a) Given the following dictionary, how can we get a list of all three ZIP codes?**"
   ]
  },
  {
   "cell_type": "markdown",
   "metadata": {
    "collapsed": true
   },
   "source": [
    "data = {'11238': 23, '10011': 47, '10011':10}"
   ]
  },
  {
   "cell_type": "markdown",
   "metadata": {},
   "source": [
    "print data.key()\n",
    "\n",
    "Since keys are the equivalent of the words in a dictionary (while values are the equivalent of the definitions), writing a command to print just the keys would yield the ZIP codes."
   ]
  },
  {
   "cell_type": "markdown",
   "metadata": {},
   "source": [
    "**5b) Write a for loop that prints all three zip codes on separate lines.**"
   ]
  },
  {
   "cell_type": "markdown",
   "metadata": {
    "collapsed": false
   },
   "source": [
    "for key in data:\n",
    "\n",
    "    print key"
   ]
  },
  {
   "cell_type": "markdown",
   "metadata": {},
   "source": [
    "The output of the for loop would be *just* the keys in the dictionary from 5a:\n",
    "\n",
    "11238\n",
    "\n",
    "10011\n",
    "\n",
    "10011\n",
    "\n",
    "Note that the values are not printed even though they are in the data dictionary because the for loop only asked for the keys."
   ]
  },
  {
   "cell_type": "markdown",
   "metadata": {},
   "source": [
    "**6) Given the following list, add together any numbers greater than 10.**"
   ]
  },
  {
   "cell_type": "markdown",
   "metadata": {
    "collapsed": true
   },
   "source": [
    "values = [20, 30, 10, 5, 99]"
   ]
  },
  {
   "cell_type": "markdown",
   "metadata": {
    "collapsed": false
   },
   "source": [
    "for number in values:\n",
    "\n",
    "    if number > 10:\n",
    "    \n",
    "        total = sum(number)\n",
    "\n",
    "This question calls for an if statement *within* a for loop. With this conditional, the for loop will only undergo a summation if the element in the list is greater than 10."
   ]
  }
 ],
 "metadata": {
  "kernelspec": {
   "display_name": "Python 2",
   "language": "python",
   "name": "python2"
  },
  "language_info": {
   "codemirror_mode": {
    "name": "ipython",
    "version": 2
   },
   "file_extension": ".py",
   "mimetype": "text/x-python",
   "name": "python",
   "nbconvert_exporter": "python",
   "pygments_lexer": "ipython2",
   "version": "2.7.9"
  }
 },
 "nbformat": 4,
 "nbformat_minor": 0
}
